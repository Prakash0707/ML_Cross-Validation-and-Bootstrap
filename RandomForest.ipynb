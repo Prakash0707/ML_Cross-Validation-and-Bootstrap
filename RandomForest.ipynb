{
  "nbformat": 4,
  "nbformat_minor": 0,
  "metadata": {
    "colab": {
      "name": "Untitled5.ipynb",
      "provenance": [],
      "collapsed_sections": [],
      "authorship_tag": "ABX9TyNgyi0WrnHC5J/dQf/kOQ4n",
      "include_colab_link": true
    },
    "kernelspec": {
      "name": "ir",
      "display_name": "R"
    },
    "language_info": {
      "name": "R"
    }
  },
  "cells": [
    {
      "cell_type": "markdown",
      "metadata": {
        "id": "view-in-github",
        "colab_type": "text"
      },
      "source": [
        "<a href=\"https://colab.research.google.com/github/Prakash0707/ML_Cross-Validation-and-Bootstrap/blob/master/RandomForest.ipynb\" target=\"_parent\"><img src=\"https://colab.research.google.com/assets/colab-badge.svg\" alt=\"Open In Colab\"/></a>"
      ]
    },
    {
      "cell_type": "markdown",
      "metadata": {
        "id": "b78asZgLunv2"
      },
      "source": [
        "# Tree based Method"
      ]
    },
    {
      "cell_type": "markdown",
      "metadata": {
        "id": "Te2xNPJ9hmMN"
      },
      "source": [
        "The given data is related with direct marketing campaigns of a Portuguese \n",
        "banking institution. The campaign is based on phone calls. My goal in this \n",
        "exercise is to test a few classification models in addition to determining \n",
        "whether or not a customer will subscribe.\n",
        "\n",
        "Logistic Regression and Random Forest are performed in this exercise."
      ]
    },
    {
      "cell_type": "markdown",
      "metadata": {
        "id": "q3dSVUPbiD81"
      },
      "source": [
        "Installing Packages"
      ]
    },
    {
      "cell_type": "code",
      "metadata": {
        "id": "hYmES__-j5ul"
      },
      "source": [
        "install.packages(\"DataExplorer\")\n",
        "install.packages(\"fastDummies\")\n",
        "install.packages(\"tidyverse\")\n",
        "install.packages(\"rsample\")\n",
        "install.packages(\"tidymodels\")\n",
        "install.packages(\"randomForest\")\n",
        "install.packages(\"vip\")\n",
        "install.packages(\"caret\")\n",
        "install.packages(\"car\")\n",
        "\n",
        "library(DataExplorer) \n",
        "library(fastDummies)  \n",
        "library(tidyverse)\n",
        "library(rsample)\n",
        "library(tidymodels)\n",
        "library(randomForest)\n",
        "library(vip)\n",
        "library(caret)\n",
        "library(car)"
      ],
      "execution_count": null,
      "outputs": []
    },
    {
      "cell_type": "markdown",
      "metadata": {
        "id": "GM2fOND4jeJY"
      },
      "source": [
        "Followed Method\n",
        "\n",
        "➢ There are no missing values in the dataset\n",
        "\n",
        "➢ Creating Dummies\n",
        "\n",
        "➢ Model Building\n",
        "\n",
        "➢ Predicting the output\n",
        "\n",
        "➢ Creating confusion matrix and finding accuracy"
      ]
    },
    {
      "cell_type": "markdown",
      "metadata": {
        "id": "6MoA9achpkpV"
      },
      "source": [
        "Bank Dataset is loaded"
      ]
    },
    {
      "cell_type": "code",
      "metadata": {
        "colab": {
          "base_uri": "https://localhost:8080/",
          "height": 283
        },
        "id": "B_ZC46cAplNM",
        "outputId": "4b24a78e-2752-4b51-c466-b3768527f176"
      },
      "source": [
        "df <- read.csv(\"bank-full.csv\",sep = \";\",header = T)\n",
        "head(df)"
      ],
      "execution_count": 43,
      "outputs": [
        {
          "output_type": "display_data",
          "data": {
            "text/plain": [
              "  age job          marital education default balance housing loan contact day\n",
              "1 58  management   married tertiary  no      2143    yes     no   unknown 5  \n",
              "2 44  technician   single  secondary no        29    yes     no   unknown 5  \n",
              "3 33  entrepreneur married secondary no         2    yes     yes  unknown 5  \n",
              "4 47  blue-collar  married unknown   no      1506    yes     no   unknown 5  \n",
              "5 33  unknown      single  unknown   no         1    no      no   unknown 5  \n",
              "6 35  management   married tertiary  no       231    yes     no   unknown 5  \n",
              "  month duration campaign pdays previous poutcome y \n",
              "1 may   261      1        -1    0        unknown  no\n",
              "2 may   151      1        -1    0        unknown  no\n",
              "3 may    76      1        -1    0        unknown  no\n",
              "4 may    92      1        -1    0        unknown  no\n",
              "5 may   198      1        -1    0        unknown  no\n",
              "6 may   139      1        -1    0        unknown  no"
            ],
            "text/latex": "A data.frame: 6 × 17\n\\begin{tabular}{r|lllllllllllllllll}\n  & age & job & marital & education & default & balance & housing & loan & contact & day & month & duration & campaign & pdays & previous & poutcome & y\\\\\n  & <int> & <chr> & <chr> & <chr> & <chr> & <int> & <chr> & <chr> & <chr> & <int> & <chr> & <int> & <int> & <int> & <int> & <chr> & <chr>\\\\\n\\hline\n\t1 & 58 & management   & married & tertiary  & no & 2143 & yes & no  & unknown & 5 & may & 261 & 1 & -1 & 0 & unknown & no\\\\\n\t2 & 44 & technician   & single  & secondary & no &   29 & yes & no  & unknown & 5 & may & 151 & 1 & -1 & 0 & unknown & no\\\\\n\t3 & 33 & entrepreneur & married & secondary & no &    2 & yes & yes & unknown & 5 & may &  76 & 1 & -1 & 0 & unknown & no\\\\\n\t4 & 47 & blue-collar  & married & unknown   & no & 1506 & yes & no  & unknown & 5 & may &  92 & 1 & -1 & 0 & unknown & no\\\\\n\t5 & 33 & unknown      & single  & unknown   & no &    1 & no  & no  & unknown & 5 & may & 198 & 1 & -1 & 0 & unknown & no\\\\\n\t6 & 35 & management   & married & tertiary  & no &  231 & yes & no  & unknown & 5 & may & 139 & 1 & -1 & 0 & unknown & no\\\\\n\\end{tabular}\n",
            "text/markdown": "\nA data.frame: 6 × 17\n\n| <!--/--> | age &lt;int&gt; | job &lt;chr&gt; | marital &lt;chr&gt; | education &lt;chr&gt; | default &lt;chr&gt; | balance &lt;int&gt; | housing &lt;chr&gt; | loan &lt;chr&gt; | contact &lt;chr&gt; | day &lt;int&gt; | month &lt;chr&gt; | duration &lt;int&gt; | campaign &lt;int&gt; | pdays &lt;int&gt; | previous &lt;int&gt; | poutcome &lt;chr&gt; | y &lt;chr&gt; |\n|---|---|---|---|---|---|---|---|---|---|---|---|---|---|---|---|---|---|\n| 1 | 58 | management   | married | tertiary  | no | 2143 | yes | no  | unknown | 5 | may | 261 | 1 | -1 | 0 | unknown | no |\n| 2 | 44 | technician   | single  | secondary | no |   29 | yes | no  | unknown | 5 | may | 151 | 1 | -1 | 0 | unknown | no |\n| 3 | 33 | entrepreneur | married | secondary | no |    2 | yes | yes | unknown | 5 | may |  76 | 1 | -1 | 0 | unknown | no |\n| 4 | 47 | blue-collar  | married | unknown   | no | 1506 | yes | no  | unknown | 5 | may |  92 | 1 | -1 | 0 | unknown | no |\n| 5 | 33 | unknown      | single  | unknown   | no |    1 | no  | no  | unknown | 5 | may | 198 | 1 | -1 | 0 | unknown | no |\n| 6 | 35 | management   | married | tertiary  | no |  231 | yes | no  | unknown | 5 | may | 139 | 1 | -1 | 0 | unknown | no |\n\n",
            "text/html": [
              "<table class=\"dataframe\">\n",
              "<caption>A data.frame: 6 × 17</caption>\n",
              "<thead>\n",
              "\t<tr><th></th><th scope=col>age</th><th scope=col>job</th><th scope=col>marital</th><th scope=col>education</th><th scope=col>default</th><th scope=col>balance</th><th scope=col>housing</th><th scope=col>loan</th><th scope=col>contact</th><th scope=col>day</th><th scope=col>month</th><th scope=col>duration</th><th scope=col>campaign</th><th scope=col>pdays</th><th scope=col>previous</th><th scope=col>poutcome</th><th scope=col>y</th></tr>\n",
              "\t<tr><th></th><th scope=col>&lt;int&gt;</th><th scope=col>&lt;chr&gt;</th><th scope=col>&lt;chr&gt;</th><th scope=col>&lt;chr&gt;</th><th scope=col>&lt;chr&gt;</th><th scope=col>&lt;int&gt;</th><th scope=col>&lt;chr&gt;</th><th scope=col>&lt;chr&gt;</th><th scope=col>&lt;chr&gt;</th><th scope=col>&lt;int&gt;</th><th scope=col>&lt;chr&gt;</th><th scope=col>&lt;int&gt;</th><th scope=col>&lt;int&gt;</th><th scope=col>&lt;int&gt;</th><th scope=col>&lt;int&gt;</th><th scope=col>&lt;chr&gt;</th><th scope=col>&lt;chr&gt;</th></tr>\n",
              "</thead>\n",
              "<tbody>\n",
              "\t<tr><th scope=row>1</th><td>58</td><td>management  </td><td>married</td><td>tertiary </td><td>no</td><td>2143</td><td>yes</td><td>no </td><td>unknown</td><td>5</td><td>may</td><td>261</td><td>1</td><td>-1</td><td>0</td><td>unknown</td><td>no</td></tr>\n",
              "\t<tr><th scope=row>2</th><td>44</td><td>technician  </td><td>single </td><td>secondary</td><td>no</td><td>  29</td><td>yes</td><td>no </td><td>unknown</td><td>5</td><td>may</td><td>151</td><td>1</td><td>-1</td><td>0</td><td>unknown</td><td>no</td></tr>\n",
              "\t<tr><th scope=row>3</th><td>33</td><td>entrepreneur</td><td>married</td><td>secondary</td><td>no</td><td>   2</td><td>yes</td><td>yes</td><td>unknown</td><td>5</td><td>may</td><td> 76</td><td>1</td><td>-1</td><td>0</td><td>unknown</td><td>no</td></tr>\n",
              "\t<tr><th scope=row>4</th><td>47</td><td>blue-collar </td><td>married</td><td>unknown  </td><td>no</td><td>1506</td><td>yes</td><td>no </td><td>unknown</td><td>5</td><td>may</td><td> 92</td><td>1</td><td>-1</td><td>0</td><td>unknown</td><td>no</td></tr>\n",
              "\t<tr><th scope=row>5</th><td>33</td><td>unknown     </td><td>single </td><td>unknown  </td><td>no</td><td>   1</td><td>no </td><td>no </td><td>unknown</td><td>5</td><td>may</td><td>198</td><td>1</td><td>-1</td><td>0</td><td>unknown</td><td>no</td></tr>\n",
              "\t<tr><th scope=row>6</th><td>35</td><td>management  </td><td>married</td><td>tertiary </td><td>no</td><td> 231</td><td>yes</td><td>no </td><td>unknown</td><td>5</td><td>may</td><td>139</td><td>1</td><td>-1</td><td>0</td><td>unknown</td><td>no</td></tr>\n",
              "</tbody>\n",
              "</table>\n"
            ]
          },
          "metadata": {
            "tags": []
          }
        }
      ]
    },
    {
      "cell_type": "code",
      "metadata": {
        "colab": {
          "base_uri": "https://localhost:8080/",
          "height": 612
        },
        "id": "beLMGs2Fi0qQ",
        "outputId": "e94d7df6-799c-4b7e-a512-ab55d02f3731"
      },
      "source": [
        "summary(df)"
      ],
      "execution_count": 45,
      "outputs": [
        {
          "output_type": "display_data",
          "data": {
            "text/plain": [
              "      age            job              marital           education        \n",
              " Min.   :18.00   Length:45211       Length:45211       Length:45211      \n",
              " 1st Qu.:33.00   Class :character   Class :character   Class :character  \n",
              " Median :39.00   Mode  :character   Mode  :character   Mode  :character  \n",
              " Mean   :40.94                                                           \n",
              " 3rd Qu.:48.00                                                           \n",
              " Max.   :95.00                                                           \n",
              "   default             balance         housing              loan          \n",
              " Length:45211       Min.   : -8019   Length:45211       Length:45211      \n",
              " Class :character   1st Qu.:    72   Class :character   Class :character  \n",
              " Mode  :character   Median :   448   Mode  :character   Mode  :character  \n",
              "                    Mean   :  1362                                        \n",
              "                    3rd Qu.:  1428                                        \n",
              "                    Max.   :102127                                        \n",
              "   contact               day           month              duration     \n",
              " Length:45211       Min.   : 1.00   Length:45211       Min.   :   0.0  \n",
              " Class :character   1st Qu.: 8.00   Class :character   1st Qu.: 103.0  \n",
              " Mode  :character   Median :16.00   Mode  :character   Median : 180.0  \n",
              "                    Mean   :15.81                      Mean   : 258.2  \n",
              "                    3rd Qu.:21.00                      3rd Qu.: 319.0  \n",
              "                    Max.   :31.00                      Max.   :4918.0  \n",
              "    campaign          pdays          previous          poutcome        \n",
              " Min.   : 1.000   Min.   : -1.0   Min.   :  0.0000   Length:45211      \n",
              " 1st Qu.: 1.000   1st Qu.: -1.0   1st Qu.:  0.0000   Class :character  \n",
              " Median : 2.000   Median : -1.0   Median :  0.0000   Mode  :character  \n",
              " Mean   : 2.764   Mean   : 40.2   Mean   :  0.5803                     \n",
              " 3rd Qu.: 3.000   3rd Qu.: -1.0   3rd Qu.:  0.0000                     \n",
              " Max.   :63.000   Max.   :871.0   Max.   :275.0000                     \n",
              "      y            \n",
              " Length:45211      \n",
              " Class :character  \n",
              " Mode  :character  \n",
              "                   \n",
              "                   \n",
              "                   "
            ]
          },
          "metadata": {
            "tags": []
          }
        }
      ]
    },
    {
      "cell_type": "markdown",
      "metadata": {
        "id": "1lOtkRcLkTep"
      },
      "source": [
        "we can observe the summary of the dataset"
      ]
    },
    {
      "cell_type": "code",
      "metadata": {
        "colab": {
          "base_uri": "https://localhost:8080/",
          "height": 857
        },
        "id": "Wei1IjI0ptpn",
        "outputId": "6bef603e-dd0d-4e52-84f6-a950da807b5c"
      },
      "source": [
        "plot_bar(df)"
      ],
      "execution_count": 4,
      "outputs": [
        {
          "output_type": "display_data",
          "data": {
            "image/png": "[encoded data removed]",
            "text/plain": [
              "plot without title"
            ]
          },
          "metadata": {
            "tags": [],
            "image/png": {
              "width": 420,
              "height": 420
            }
          }
        },
        {
          "output_type": "display_data",
          "data": {
            "image/png": "[encoded data removed]",
            "text/plain": [
              "plot without title"
            ]
          },
          "metadata": {
            "tags": [],
            "image/png": {
              "width": 420,
              "height": 420
            }
          }
        }
      ]
    },
    {
      "cell_type": "markdown",
      "metadata": {
        "id": "uQMDEeMlpvj_"
      },
      "source": [
        "A quick glance at the graphs reveals that the majority of the customers \n",
        "are married blue-collar workers.\n"
      ]
    },
    {
      "cell_type": "markdown",
      "metadata": {
        "id": "6ERar03mk4sH"
      },
      "source": [
        "# Creating Dummy Variables"
      ]
    },
    {
      "cell_type": "markdown",
      "metadata": {
        "id": "0uOfAWzllA9W"
      },
      "source": [
        "Dummy for job"
      ]
    },
    {
      "cell_type": "code",
      "metadata": {
        "colab": {
          "base_uri": "https://localhost:8080/",
          "height": 289
        },
        "id": "R3qr6h5hpv_m",
        "outputId": "5746619b-206a-4954-8545-3af4a9bfe37b"
      },
      "source": [
        "t=table(df$job)\n",
        "final=round(prop.table(table(df$job,df$y),1)*100,1)\n",
        "final\n",
        "s=addmargins(final,2) \n",
        "sort(s[,1])\n",
        "df=df %>% \n",
        "  mutate(job_1=as.numeric(job %in% c(\"self-employed\",\"unknown\",\"technician\")), \n",
        "         job_2=as.numeric(job %in% c(\"services\",\"housemaid\",\"entrepreneur\")),\n",
        "         job_3=as.numeric(job %in% c(\"management\",\"admin\")),\n",
        "         job_4=as.numeric(job==\"student\"),\n",
        "         job_5=as.numeric(job==\"retired\"),\n",
        "         job_6=as.numeric(job==\"unemployed\")) %>% \n",
        "  select(-job)"
      ],
      "execution_count": 5,
      "outputs": [
        {
          "output_type": "display_data",
          "data": {
            "text/plain": [
              "               \n",
              "                  no  yes\n",
              "  admin.        87.8 12.2\n",
              "  blue-collar   92.7  7.3\n",
              "  entrepreneur  91.7  8.3\n",
              "  housemaid     91.2  8.8\n",
              "  management    86.2 13.8\n",
              "  retired       77.2 22.8\n",
              "  self-employed 88.2 11.8\n",
              "  services      91.1  8.9\n",
              "  student       71.3 28.7\n",
              "  technician    88.9 11.1\n",
              "  unemployed    84.5 15.5\n",
              "  unknown       88.2 11.8"
            ]
          },
          "metadata": {
            "tags": []
          }
        },
        {
          "output_type": "display_data",
          "data": {
            "text/plain": [
              "      student       retired    unemployed    management        admin. \n",
              "         71.3          77.2          84.5          86.2          87.8 \n",
              "self-employed       unknown    technician      services     housemaid \n",
              "         88.2          88.2          88.9          91.1          91.2 \n",
              " entrepreneur   blue-collar \n",
              "         91.7          92.7 "
            ],
            "text/latex": "\\begin{description*}\n\\item[student] 71.3\n\\item[retired] 77.2\n\\item[unemployed] 84.5\n\\item[management] 86.2\n\\item[admin.] 87.8\n\\item[self-employed] 88.2\n\\item[unknown] 88.2\n\\item[technician] 88.9\n\\item[services] 91.1\n\\item[housemaid] 91.2\n\\item[entrepreneur] 91.7\n\\item[blue-collar] 92.7\n\\end{description*}\n",
            "text/markdown": "student\n:   71.3retired\n:   77.2unemployed\n:   84.5management\n:   86.2admin.\n:   87.8self-employed\n:   88.2unknown\n:   88.2technician\n:   88.9services\n:   91.1housemaid\n:   91.2entrepreneur\n:   91.7blue-collar\n:   92.7\n\n",
            "text/html": [
              "<style>\n",
              ".dl-inline {width: auto; margin:0; padding: 0}\n",
              ".dl-inline>dt, .dl-inline>dd {float: none; width: auto; display: inline-block}\n",
              ".dl-inline>dt::after {content: \":\\0020\"; padding-right: .5ex}\n",
              ".dl-inline>dt:not(:first-of-type) {padding-left: .5ex}\n",
              "</style><dl class=dl-inline><dt>student</dt><dd>71.3</dd><dt>retired</dt><dd>77.2</dd><dt>unemployed</dt><dd>84.5</dd><dt>management</dt><dd>86.2</dd><dt>admin.</dt><dd>87.8</dd><dt>self-employed</dt><dd>88.2</dd><dt>unknown</dt><dd>88.2</dd><dt>technician</dt><dd>88.9</dd><dt>services</dt><dd>91.1</dd><dt>housemaid</dt><dd>91.2</dd><dt>entrepreneur</dt><dd>91.7</dd><dt>blue-collar</dt><dd>92.7</dd></dl>\n"
            ]
          },
          "metadata": {
            "tags": []
          }
        }
      ]
    },
    {
      "cell_type": "markdown",
      "metadata": {
        "id": "yg3Xjguvp9lf"
      },
      "source": [
        "Dummy for Marital and Education"
      ]
    },
    {
      "cell_type": "code",
      "metadata": {
        "id": "kHj5tYjwp94Y"
      },
      "source": [
        "t=table(df$marital)\n",
        "df=df%>%\n",
        "  mutate(divorced=as.numeric(marital %in% c(\"divorced\")),\n",
        "         single=as.numeric(marital %in% c(\"single\")),\n",
        "         \n",
        "  ) %>% \n",
        "  select(-marital)\n",
        "\n",
        "  ##Making dummies for variable education\n",
        "df=df %>% \n",
        "  mutate(edu_primary=as.numeric(education %in% c(\"primary\")),\n",
        "         edu_sec=as.numeric(education %in% c(\"secondary\")),\n",
        "         edu_tert=as.numeric(education %in% c(\"tertiary\"))\n",
        "  ) %>% \n",
        "  select(-education)"
      ],
      "execution_count": 6,
      "outputs": []
    },
    {
      "cell_type": "markdown",
      "metadata": {
        "id": "s4I-UKlRul11"
      },
      "source": [
        "Dummies for Default, Housing, Loan and Contact"
      ]
    },
    {
      "cell_type": "code",
      "metadata": {
        "id": "_xSdEkFKukfy"
      },
      "source": [
        "##Making dummies for varible default\n",
        "df$default=as.numeric(df$default==\"yes\")\n",
        "##Making dummies for variable housing\n",
        "df$housing=as.numeric(df$housing==\"yes\")\n",
        "##Making dummies for variable loan\n",
        "df$loan=as.numeric(df$loan==\"yes\")\n",
        "##dummy variable for contact\n",
        "df=df %>% \n",
        "  mutate(co_cellular=as.numeric(contact %in% c(\"cellular\")),\n",
        "         co_tel=as.numeric(contact %in% c(\"telephone\"))\n",
        "  ) %>% \n",
        "  select(-contact)"
      ],
      "execution_count": 7,
      "outputs": []
    },
    {
      "cell_type": "markdown",
      "metadata": {
        "id": "kuLfvrimuo9R"
      },
      "source": [
        "Dummies for Month and poutcome"
      ]
    },
    {
      "cell_type": "code",
      "metadata": {
        "colab": {
          "base_uri": "https://localhost:8080/",
          "height": 34
        },
        "id": "B26ytp2lupbE",
        "outputId": "6593fd89-c5f3-4e44-e0a7-023d83842972"
      },
      "source": [
        "##Making dummies for variable month\n",
        "finalmnth=round(prop.table(table(df$month,df$y),1)*100,1)\n",
        "sss=addmargins(finalmnth,2) #adding margin across Y\n",
        "sort(sss[,1])\n",
        "df=df %>% \n",
        "  mutate(month_1=as.numeric(month %in% c(\"aug\",\"jun\",\"nov\",\"jan\",\"jul\")), \n",
        "         month_2=as.numeric(month %in% c(\"dec\",\"sep\")),\n",
        "         month_3=as.numeric(month==\"mar\"),\n",
        "         month_4=as.numeric(month==\"oct\"),\n",
        "         month_5=as.numeric(month==\"apr\"),\n",
        "         month_6=as.numeric(month==\"feb\")) %>% \n",
        "  select(-month)\n",
        "## dummies for variable outcome\n",
        "df=df %>% \n",
        "  mutate(poc_success=as.numeric(poutcome %in% c(\"success\")),\n",
        "         poc_failure=as.numeric(poutcome %in% c(\"failure\")),\n",
        "         poc_other=as.numeric(poutcome %in% c(\"other\"))\n",
        "  )%>% \n",
        "  select(-poutcome)"
      ],
      "execution_count": 8,
      "outputs": [
        {
          "output_type": "display_data",
          "data": {
            "text/plain": [
              " mar  dec  sep  oct  apr  feb  aug  jun  nov  jan  jul  may \n",
              "48.0 53.3 53.5 56.2 80.3 83.4 89.0 89.8 89.8 89.9 90.9 93.3 "
            ],
            "text/latex": "\\begin{description*}\n\\item[mar] 48\n\\item[dec] 53.3\n\\item[sep] 53.5\n\\item[oct] 56.2\n\\item[apr] 80.3\n\\item[feb] 83.4\n\\item[aug] 89\n\\item[jun] 89.8\n\\item[nov] 89.8\n\\item[jan] 89.9\n\\item[jul] 90.9\n\\item[may] 93.3\n\\end{description*}\n",
            "text/markdown": "mar\n:   48dec\n:   53.3sep\n:   53.5oct\n:   56.2apr\n:   80.3feb\n:   83.4aug\n:   89jun\n:   89.8nov\n:   89.8jan\n:   89.9jul\n:   90.9may\n:   93.3\n\n",
            "text/html": [
              "<style>\n",
              ".dl-inline {width: auto; margin:0; padding: 0}\n",
              ".dl-inline>dt, .dl-inline>dd {float: none; width: auto; display: inline-block}\n",
              ".dl-inline>dt::after {content: \":\\0020\"; padding-right: .5ex}\n",
              ".dl-inline>dt:not(:first-of-type) {padding-left: .5ex}\n",
              "</style><dl class=dl-inline><dt>mar</dt><dd>48</dd><dt>dec</dt><dd>53.3</dd><dt>sep</dt><dd>53.5</dd><dt>oct</dt><dd>56.2</dd><dt>apr</dt><dd>80.3</dd><dt>feb</dt><dd>83.4</dd><dt>aug</dt><dd>89</dd><dt>jun</dt><dd>89.8</dd><dt>nov</dt><dd>89.8</dd><dt>jan</dt><dd>89.9</dd><dt>jul</dt><dd>90.9</dd><dt>may</dt><dd>93.3</dd></dl>\n"
            ]
          },
          "metadata": {
            "tags": []
          }
        }
      ]
    },
    {
      "cell_type": "markdown",
      "metadata": {
        "id": "Lh5aouCCuybY"
      },
      "source": [
        "\n",
        "\n",
        "\n",
        "\n"
      ]
    },
    {
      "cell_type": "code",
      "metadata": {
        "colab": {
          "base_uri": "https://localhost:8080/",
          "height": 1000
        },
        "id": "0m2322hiu2TH",
        "outputId": "cbb0353b-3a98-4b9e-d47c-4a1fa60fc50b"
      },
      "source": [
        "df$y=as.numeric(df$y==\"yes\")\n",
        "attach(df)\n",
        "head(df)"
      ],
      "execution_count": 53,
      "outputs": [
        {
          "output_type": "stream",
          "text": [
            "The following objects are masked from df (pos = 3):\n",
            "\n",
            "    age, balance, campaign, contact, day, default, duration, education,\n",
            "    housing, job, loan, marital, month, pdays, poutcome, previous, y\n",
            "\n",
            "\n",
            "The following objects are masked from df (pos = 4):\n",
            "\n",
            "    age, balance, campaign, contact, day, default, duration, education,\n",
            "    housing, job, loan, marital, month, pdays, poutcome, previous, y\n",
            "\n",
            "\n",
            "The following objects are masked from df (pos = 5):\n",
            "\n",
            "    age, balance, campaign, contact, day, default, duration, education,\n",
            "    housing, job, loan, marital, month, pdays, poutcome, previous, y\n",
            "\n",
            "\n",
            "The following objects are masked from df (pos = 6):\n",
            "\n",
            "    age, balance, campaign, contact, day, default, duration, education,\n",
            "    housing, job, loan, marital, month, pdays, poutcome, previous, y\n",
            "\n",
            "\n",
            "The following objects are masked from df (pos = 7):\n",
            "\n",
            "    age, balance, campaign, contact, day, default, duration, education,\n",
            "    housing, job, loan, marital, month, pdays, poutcome, previous, y\n",
            "\n",
            "\n",
            "The following objects are masked from df (pos = 8):\n",
            "\n",
            "    age, balance, campaign, contact, day, default, duration, education,\n",
            "    housing, job, loan, marital, month, pdays, poutcome, previous, y\n",
            "\n",
            "\n",
            "The following objects are masked from df2:\n",
            "\n",
            "    age, balance, campaign, day, default, duration, housing, loan,\n",
            "    pdays, previous, y\n",
            "\n",
            "\n",
            "The following objects are masked from df (pos = 11):\n",
            "\n",
            "    age, balance, campaign, day, default, duration, housing, loan,\n",
            "    pdays, previous, y\n",
            "\n",
            "\n"
          ],
          "name": "stderr"
        },
        {
          "output_type": "display_data",
          "data": {
            "text/plain": [
              "  age job          marital education default balance housing loan contact day\n",
              "1 58  management   married tertiary  no      2143    yes     no   unknown 5  \n",
              "2 44  technician   single  secondary no        29    yes     no   unknown 5  \n",
              "3 33  entrepreneur married secondary no         2    yes     yes  unknown 5  \n",
              "4 47  blue-collar  married unknown   no      1506    yes     no   unknown 5  \n",
              "5 33  unknown      single  unknown   no         1    no      no   unknown 5  \n",
              "6 35  management   married tertiary  no       231    yes     no   unknown 5  \n",
              "  month duration campaign pdays previous poutcome y\n",
              "1 may   261      1        -1    0        unknown  0\n",
              "2 may   151      1        -1    0        unknown  0\n",
              "3 may    76      1        -1    0        unknown  0\n",
              "4 may    92      1        -1    0        unknown  0\n",
              "5 may   198      1        -1    0        unknown  0\n",
              "6 may   139      1        -1    0        unknown  0"
            ],
            "text/latex": "A data.frame: 6 × 17\n\\begin{tabular}{r|lllllllllllllllll}\n  & age & job & marital & education & default & balance & housing & loan & contact & day & month & duration & campaign & pdays & previous & poutcome & y\\\\\n  & <int> & <chr> & <chr> & <chr> & <chr> & <int> & <chr> & <chr> & <chr> & <int> & <chr> & <int> & <int> & <int> & <int> & <chr> & <dbl>\\\\\n\\hline\n\t1 & 58 & management   & married & tertiary  & no & 2143 & yes & no  & unknown & 5 & may & 261 & 1 & -1 & 0 & unknown & 0\\\\\n\t2 & 44 & technician   & single  & secondary & no &   29 & yes & no  & unknown & 5 & may & 151 & 1 & -1 & 0 & unknown & 0\\\\\n\t3 & 33 & entrepreneur & married & secondary & no &    2 & yes & yes & unknown & 5 & may &  76 & 1 & -1 & 0 & unknown & 0\\\\\n\t4 & 47 & blue-collar  & married & unknown   & no & 1506 & yes & no  & unknown & 5 & may &  92 & 1 & -1 & 0 & unknown & 0\\\\\n\t5 & 33 & unknown      & single  & unknown   & no &    1 & no  & no  & unknown & 5 & may & 198 & 1 & -1 & 0 & unknown & 0\\\\\n\t6 & 35 & management   & married & tertiary  & no &  231 & yes & no  & unknown & 5 & may & 139 & 1 & -1 & 0 & unknown & 0\\\\\n\\end{tabular}\n",
            "text/markdown": "\nA data.frame: 6 × 17\n\n| <!--/--> | age &lt;int&gt; | job &lt;chr&gt; | marital &lt;chr&gt; | education &lt;chr&gt; | default &lt;chr&gt; | balance &lt;int&gt; | housing &lt;chr&gt; | loan &lt;chr&gt; | contact &lt;chr&gt; | day &lt;int&gt; | month &lt;chr&gt; | duration &lt;int&gt; | campaign &lt;int&gt; | pdays &lt;int&gt; | previous &lt;int&gt; | poutcome &lt;chr&gt; | y &lt;dbl&gt; |\n|---|---|---|---|---|---|---|---|---|---|---|---|---|---|---|---|---|---|\n| 1 | 58 | management   | married | tertiary  | no | 2143 | yes | no  | unknown | 5 | may | 261 | 1 | -1 | 0 | unknown | 0 |\n| 2 | 44 | technician   | single  | secondary | no |   29 | yes | no  | unknown | 5 | may | 151 | 1 | -1 | 0 | unknown | 0 |\n| 3 | 33 | entrepreneur | married | secondary | no |    2 | yes | yes | unknown | 5 | may |  76 | 1 | -1 | 0 | unknown | 0 |\n| 4 | 47 | blue-collar  | married | unknown   | no | 1506 | yes | no  | unknown | 5 | may |  92 | 1 | -1 | 0 | unknown | 0 |\n| 5 | 33 | unknown      | single  | unknown   | no |    1 | no  | no  | unknown | 5 | may | 198 | 1 | -1 | 0 | unknown | 0 |\n| 6 | 35 | management   | married | tertiary  | no |  231 | yes | no  | unknown | 5 | may | 139 | 1 | -1 | 0 | unknown | 0 |\n\n",
            "text/html": [
              "<table class=\"dataframe\">\n",
              "<caption>A data.frame: 6 × 17</caption>\n",
              "<thead>\n",
              "\t<tr><th></th><th scope=col>age</th><th scope=col>job</th><th scope=col>marital</th><th scope=col>education</th><th scope=col>default</th><th scope=col>balance</th><th scope=col>housing</th><th scope=col>loan</th><th scope=col>contact</th><th scope=col>day</th><th scope=col>month</th><th scope=col>duration</th><th scope=col>campaign</th><th scope=col>pdays</th><th scope=col>previous</th><th scope=col>poutcome</th><th scope=col>y</th></tr>\n",
              "\t<tr><th></th><th scope=col>&lt;int&gt;</th><th scope=col>&lt;chr&gt;</th><th scope=col>&lt;chr&gt;</th><th scope=col>&lt;chr&gt;</th><th scope=col>&lt;chr&gt;</th><th scope=col>&lt;int&gt;</th><th scope=col>&lt;chr&gt;</th><th scope=col>&lt;chr&gt;</th><th scope=col>&lt;chr&gt;</th><th scope=col>&lt;int&gt;</th><th scope=col>&lt;chr&gt;</th><th scope=col>&lt;int&gt;</th><th scope=col>&lt;int&gt;</th><th scope=col>&lt;int&gt;</th><th scope=col>&lt;int&gt;</th><th scope=col>&lt;chr&gt;</th><th scope=col>&lt;dbl&gt;</th></tr>\n",
              "</thead>\n",
              "<tbody>\n",
              "\t<tr><th scope=row>1</th><td>58</td><td>management  </td><td>married</td><td>tertiary </td><td>no</td><td>2143</td><td>yes</td><td>no </td><td>unknown</td><td>5</td><td>may</td><td>261</td><td>1</td><td>-1</td><td>0</td><td>unknown</td><td>0</td></tr>\n",
              "\t<tr><th scope=row>2</th><td>44</td><td>technician  </td><td>single </td><td>secondary</td><td>no</td><td>  29</td><td>yes</td><td>no </td><td>unknown</td><td>5</td><td>may</td><td>151</td><td>1</td><td>-1</td><td>0</td><td>unknown</td><td>0</td></tr>\n",
              "\t<tr><th scope=row>3</th><td>33</td><td>entrepreneur</td><td>married</td><td>secondary</td><td>no</td><td>   2</td><td>yes</td><td>yes</td><td>unknown</td><td>5</td><td>may</td><td> 76</td><td>1</td><td>-1</td><td>0</td><td>unknown</td><td>0</td></tr>\n",
              "\t<tr><th scope=row>4</th><td>47</td><td>blue-collar </td><td>married</td><td>unknown  </td><td>no</td><td>1506</td><td>yes</td><td>no </td><td>unknown</td><td>5</td><td>may</td><td> 92</td><td>1</td><td>-1</td><td>0</td><td>unknown</td><td>0</td></tr>\n",
              "\t<tr><th scope=row>5</th><td>33</td><td>unknown     </td><td>single </td><td>unknown  </td><td>no</td><td>   1</td><td>no </td><td>no </td><td>unknown</td><td>5</td><td>may</td><td>198</td><td>1</td><td>-1</td><td>0</td><td>unknown</td><td>0</td></tr>\n",
              "\t<tr><th scope=row>6</th><td>35</td><td>management  </td><td>married</td><td>tertiary </td><td>no</td><td> 231</td><td>yes</td><td>no </td><td>unknown</td><td>5</td><td>may</td><td>139</td><td>1</td><td>-1</td><td>0</td><td>unknown</td><td>0</td></tr>\n",
              "</tbody>\n",
              "</table>\n"
            ]
          },
          "metadata": {
            "tags": []
          }
        }
      ]
    },
    {
      "cell_type": "markdown",
      "metadata": {
        "id": "gi_IsM36vajJ"
      },
      "source": [
        "Splitting the data into Train and Test data"
      ]
    },
    {
      "cell_type": "code",
      "metadata": {
        "colab": {
          "base_uri": "https://localhost:8080/",
          "height": 239
        },
        "id": "nQHRPCG4vbb1",
        "outputId": "b29a3cd9-401d-4d12-ac68-17cdc0d1f370"
      },
      "source": [
        "#data split\n",
        "set.seed(456)\n",
        "split <- initial_split(df, prop = .8, strata = y)\n",
        "df_train <- training(split)\n",
        "df_test <- testing(split)\n",
        "\n",
        "introduce(df_train)\n",
        "introduce(df_test)"
      ],
      "execution_count": 10,
      "outputs": [
        {
          "output_type": "display_data",
          "data": {
            "text/plain": [
              "  rows  columns discrete_columns continuous_columns all_missing_columns\n",
              "1 36168 33      0                33                 0                  \n",
              "  total_missing_values complete_rows total_observations memory_usage\n",
              "1 0                    36168         1193544            8542848     "
            ],
            "text/latex": "A data.frame: 1 × 9\n\\begin{tabular}{lllllllll}\n rows & columns & discrete\\_columns & continuous\\_columns & all\\_missing\\_columns & total\\_missing\\_values & complete\\_rows & total\\_observations & memory\\_usage\\\\\n <int> & <int> & <int> & <int> & <int> & <int> & <int> & <int> & <dbl>\\\\\n\\hline\n\t 36168 & 33 & 0 & 33 & 0 & 0 & 36168 & 1193544 & 8542848\\\\\n\\end{tabular}\n",
            "text/markdown": "\nA data.frame: 1 × 9\n\n| rows &lt;int&gt; | columns &lt;int&gt; | discrete_columns &lt;int&gt; | continuous_columns &lt;int&gt; | all_missing_columns &lt;int&gt; | total_missing_values &lt;int&gt; | complete_rows &lt;int&gt; | total_observations &lt;int&gt; | memory_usage &lt;dbl&gt; |\n|---|---|---|---|---|---|---|---|---|\n| 36168 | 33 | 0 | 33 | 0 | 0 | 36168 | 1193544 | 8542848 |\n\n",
            "text/html": [
              "<table class=\"dataframe\">\n",
              "<caption>A data.frame: 1 × 9</caption>\n",
              "<thead>\n",
              "\t<tr><th scope=col>rows</th><th scope=col>columns</th><th scope=col>discrete_columns</th><th scope=col>continuous_columns</th><th scope=col>all_missing_columns</th><th scope=col>total_missing_values</th><th scope=col>complete_rows</th><th scope=col>total_observations</th><th scope=col>memory_usage</th></tr>\n",
              "\t<tr><th scope=col>&lt;int&gt;</th><th scope=col>&lt;int&gt;</th><th scope=col>&lt;int&gt;</th><th scope=col>&lt;int&gt;</th><th scope=col>&lt;int&gt;</th><th scope=col>&lt;int&gt;</th><th scope=col>&lt;int&gt;</th><th scope=col>&lt;int&gt;</th><th scope=col>&lt;dbl&gt;</th></tr>\n",
              "</thead>\n",
              "<tbody>\n",
              "\t<tr><td>36168</td><td>33</td><td>0</td><td>33</td><td>0</td><td>0</td><td>36168</td><td>1193544</td><td>8542848</td></tr>\n",
              "</tbody>\n",
              "</table>\n"
            ]
          },
          "metadata": {
            "tags": []
          }
        },
        {
          "output_type": "display_data",
          "data": {
            "text/plain": [
              "  rows columns discrete_columns continuous_columns all_missing_columns\n",
              "1 9043 33      0                33                 0                  \n",
              "  total_missing_values complete_rows total_observations memory_usage\n",
              "1 0                    9043          298419             2141376     "
            ],
            "text/latex": "A data.frame: 1 × 9\n\\begin{tabular}{lllllllll}\n rows & columns & discrete\\_columns & continuous\\_columns & all\\_missing\\_columns & total\\_missing\\_values & complete\\_rows & total\\_observations & memory\\_usage\\\\\n <int> & <int> & <int> & <int> & <int> & <int> & <int> & <int> & <dbl>\\\\\n\\hline\n\t 9043 & 33 & 0 & 33 & 0 & 0 & 9043 & 298419 & 2141376\\\\\n\\end{tabular}\n",
            "text/markdown": "\nA data.frame: 1 × 9\n\n| rows &lt;int&gt; | columns &lt;int&gt; | discrete_columns &lt;int&gt; | continuous_columns &lt;int&gt; | all_missing_columns &lt;int&gt; | total_missing_values &lt;int&gt; | complete_rows &lt;int&gt; | total_observations &lt;int&gt; | memory_usage &lt;dbl&gt; |\n|---|---|---|---|---|---|---|---|---|\n| 9043 | 33 | 0 | 33 | 0 | 0 | 9043 | 298419 | 2141376 |\n\n",
            "text/html": [
              "<table class=\"dataframe\">\n",
              "<caption>A data.frame: 1 × 9</caption>\n",
              "<thead>\n",
              "\t<tr><th scope=col>rows</th><th scope=col>columns</th><th scope=col>discrete_columns</th><th scope=col>continuous_columns</th><th scope=col>all_missing_columns</th><th scope=col>total_missing_values</th><th scope=col>complete_rows</th><th scope=col>total_observations</th><th scope=col>memory_usage</th></tr>\n",
              "\t<tr><th scope=col>&lt;int&gt;</th><th scope=col>&lt;int&gt;</th><th scope=col>&lt;int&gt;</th><th scope=col>&lt;int&gt;</th><th scope=col>&lt;int&gt;</th><th scope=col>&lt;int&gt;</th><th scope=col>&lt;int&gt;</th><th scope=col>&lt;int&gt;</th><th scope=col>&lt;dbl&gt;</th></tr>\n",
              "</thead>\n",
              "<tbody>\n",
              "\t<tr><td>9043</td><td>33</td><td>0</td><td>33</td><td>0</td><td>0</td><td>9043</td><td>298419</td><td>2141376</td></tr>\n",
              "</tbody>\n",
              "</table>\n"
            ]
          },
          "metadata": {
            "tags": []
          }
        }
      ]
    },
    {
      "cell_type": "markdown",
      "metadata": {
        "id": "RjRwYbY3viZj"
      },
      "source": [
        "# Building Model"
      ]
    },
    {
      "cell_type": "code",
      "metadata": {
        "colab": {
          "base_uri": "https://localhost:8080/",
          "height": 850
        },
        "id": "t7GsTj4fvior",
        "outputId": "df920d00-c919-451d-d66c-540f3209b0eb"
      },
      "source": [
        "mod_lm <- lm(y~.,data=df_train)\n",
        "summary(mod_lm)"
      ],
      "execution_count": 54,
      "outputs": [
        {
          "output_type": "display_data",
          "data": {
            "text/plain": [
              "\n",
              "Call:\n",
              "lm(formula = y ~ ., data = df_train)\n",
              "\n",
              "Residuals:\n",
              "     Min       1Q   Median       3Q      Max \n",
              "-2.26123 -0.11001 -0.03986  0.02180  1.06125 \n",
              "\n",
              "Coefficients:\n",
              "              Estimate Std. Error t value Pr(>|t|)    \n",
              "(Intercept) -3.833e-02  1.202e-02  -3.188  0.00143 ** \n",
              "age          3.555e-05  1.749e-04   0.203  0.83897    \n",
              "default     -6.150e-03  1.074e-02  -0.572  0.56701    \n",
              "balance      1.469e-06  4.828e-07   3.042  0.00236 ** \n",
              "housing     -5.338e-02  3.349e-03 -15.940  < 2e-16 ***\n",
              "loan        -2.658e-02  3.936e-03  -6.752 1.48e-11 ***\n",
              "day         -5.960e-05  1.825e-04  -0.327  0.74396    \n",
              "duration     4.697e-04  5.570e-06  84.329  < 2e-16 ***\n",
              "campaign    -9.847e-04  4.775e-04  -2.062  0.03919 *  \n",
              "pdays       -4.654e-05  3.044e-05  -1.529  0.12629    \n",
              "previous     1.844e-03  9.613e-04   1.918  0.05515 .  \n",
              "job_1       -4.092e-03  4.223e-03  -0.969  0.33264    \n",
              "job_2       -6.830e-03  4.457e-03  -1.532  0.12546    \n",
              "job_3        2.319e-03  5.130e-03   0.452  0.65130    \n",
              "job_4        8.153e-02  1.061e-02   7.685 1.56e-14 ***\n",
              "job_5        4.132e-02  7.754e-03   5.329 9.95e-08 ***\n",
              "job_6       -6.199e-04  8.827e-03  -0.070  0.94401    \n",
              "divorced     1.295e-02  4.619e-03   2.803  0.00507 ** \n",
              "single       2.179e-02  3.636e-03   5.993 2.07e-09 ***\n",
              "edu_primary -1.668e-02  8.059e-03  -2.069  0.03853 *  \n",
              "edu_sec     -2.382e-03  7.419e-03  -0.321  0.74814    \n",
              "edu_tert     1.141e-02  7.925e-03   1.439  0.15007    \n",
              "co_cellular  4.564e-02  3.786e-03  12.053  < 2e-16 ***\n",
              "co_tel       3.572e-02  6.594e-03   5.417 6.11e-08 ***\n",
              "month_1     -1.047e-02  3.925e-03  -2.666  0.00767 ** \n",
              "month_2      2.032e-01  1.154e-02  17.602  < 2e-16 ***\n",
              "month_3      3.294e-01  1.452e-02  22.689  < 2e-16 ***\n",
              "month_4      1.955e-01  1.183e-02  16.523  < 2e-16 ***\n",
              "month_5      5.851e-02  6.482e-03   9.026  < 2e-16 ***\n",
              "month_6      2.922e-02  7.126e-03   4.100 4.13e-05 ***\n",
              "poc_success  4.357e-01  1.013e-02  43.014  < 2e-16 ***\n",
              "poc_failure  1.397e-02  9.257e-03   1.509  0.13130    \n",
              "poc_other    3.278e-02  1.084e-02   3.023  0.00250 ** \n",
              "---\n",
              "Signif. codes:  0 ‘***’ 0.001 ‘**’ 0.01 ‘*’ 0.05 ‘.’ 0.1 ‘ ’ 1\n",
              "\n",
              "Residual standard error: 0.2699 on 36135 degrees of freedom\n",
              "Multiple R-squared:  0.2957,\tAdjusted R-squared:  0.2951 \n",
              "F-statistic: 474.1 on 32 and 36135 DF,  p-value: < 2.2e-16\n"
            ]
          },
          "metadata": {
            "tags": []
          }
        }
      ]
    },
    {
      "cell_type": "markdown",
      "metadata": {
        "id": "wDFWZCeivko0"
      },
      "source": [
        "Removing the value p>5"
      ]
    },
    {
      "cell_type": "code",
      "metadata": {
        "colab": {
          "base_uri": "https://localhost:8080/",
          "height": 1000
        },
        "id": "_plOTCaEvk3f",
        "outputId": "e0b58033-2d51-4d57-ed52-301c8679532a"
      },
      "source": [
        "t=vif(mod_lm)\n",
        "sort(t,decreasing = T)[1:5]\n",
        "mod_lm1<-lm(formula = y ~ . - edu_sec, data = df_train)\n",
        "summary(mod_lm1)\n",
        "t=vif(mod_lm1)\n",
        "sort(t,decreasing = T)[1:5]\n",
        "xf=df_train %>% \n",
        "  select(-edu_sec)\n",
        "fit=glm(y~.,family = \"binomial\",data=xf) #32 predictor var\n",
        "summary(fit)\n"
      ],
      "execution_count": 55,
      "outputs": [
        {
          "output_type": "display_data",
          "data": {
            "text/plain": [
              "    edu_sec    edu_tert       pdays edu_primary poc_failure \n",
              "   6.827876    6.471061    4.599851    4.140905    4.117022 "
            ],
            "text/latex": "\\begin{description*}\n\\item[edu\\textbackslash{}\\_sec] 6.82787588255451\n\\item[edu\\textbackslash{}\\_tert] 6.47106121562454\n\\item[pdays] 4.59985061696012\n\\item[edu\\textbackslash{}\\_primary] 4.14090487831647\n\\item[poc\\textbackslash{}\\_failure] 4.11702229108013\n\\end{description*}\n",
            "text/markdown": "edu_sec\n:   6.82787588255451edu_tert\n:   6.47106121562454pdays\n:   4.59985061696012edu_primary\n:   4.14090487831647poc_failure\n:   4.11702229108013\n\n",
            "text/html": [
              "<style>\n",
              ".dl-inline {width: auto; margin:0; padding: 0}\n",
              ".dl-inline>dt, .dl-inline>dd {float: none; width: auto; display: inline-block}\n",
              ".dl-inline>dt::after {content: \":\\0020\"; padding-right: .5ex}\n",
              ".dl-inline>dt:not(:first-of-type) {padding-left: .5ex}\n",
              "</style><dl class=dl-inline><dt>edu_sec</dt><dd>6.82787588255451</dd><dt>edu_tert</dt><dd>6.47106121562454</dd><dt>pdays</dt><dd>4.59985061696012</dd><dt>edu_primary</dt><dd>4.14090487831647</dd><dt>poc_failure</dt><dd>4.11702229108013</dd></dl>\n"
            ]
          },
          "metadata": {
            "tags": []
          }
        },
        {
          "output_type": "display_data",
          "data": {
            "text/plain": [
              "\n",
              "Call:\n",
              "lm(formula = y ~ . - edu_sec, data = df_train)\n",
              "\n",
              "Residuals:\n",
              "     Min       1Q   Median       3Q      Max \n",
              "-2.26134 -0.11001 -0.03984  0.02183  1.06111 \n",
              "\n",
              "Coefficients:\n",
              "              Estimate Std. Error t value Pr(>|t|)    \n",
              "(Intercept) -4.070e-02  9.501e-03  -4.283 1.84e-05 ***\n",
              "age          4.054e-05  1.742e-04   0.233  0.81602    \n",
              "default     -6.130e-03  1.074e-02  -0.571  0.56826    \n",
              "balance      1.469e-06  4.828e-07   3.043  0.00235 ** \n",
              "housing     -5.342e-02  3.347e-03 -15.962  < 2e-16 ***\n",
              "loan        -2.664e-02  3.931e-03  -6.776 1.25e-11 ***\n",
              "day         -5.917e-05  1.825e-04  -0.324  0.74575    \n",
              "duration     4.697e-04  5.570e-06  84.333  < 2e-16 ***\n",
              "campaign    -9.842e-04  4.775e-04  -2.061  0.03931 *  \n",
              "pdays       -4.653e-05  3.044e-05  -1.529  0.12636    \n",
              "previous     1.842e-03  9.613e-04   1.916  0.05541 .  \n",
              "job_1       -4.082e-03  4.223e-03  -0.967  0.33377    \n",
              "job_2       -6.837e-03  4.457e-03  -1.534  0.12503    \n",
              "job_3        2.386e-03  5.126e-03   0.466  0.64152    \n",
              "job_4        8.185e-02  1.056e-02   7.751 9.34e-15 ***\n",
              "job_5        4.126e-02  7.752e-03   5.323 1.03e-07 ***\n",
              "job_6       -6.525e-04  8.826e-03  -0.074  0.94107    \n",
              "divorced     1.291e-02  4.618e-03   2.795  0.00519 ** \n",
              "single       2.181e-02  3.635e-03   5.999 2.01e-09 ***\n",
              "edu_primary -1.449e-02  4.298e-03  -3.371  0.00075 ***\n",
              "edu_tert     1.358e-02  4.128e-03   3.290  0.00100 ** \n",
              "co_cellular  4.559e-02  3.783e-03  12.050  < 2e-16 ***\n",
              "co_tel       3.571e-02  6.594e-03   5.415 6.17e-08 ***\n",
              "month_1     -1.047e-02  3.925e-03  -2.666  0.00767 ** \n",
              "month_2      2.032e-01  1.154e-02  17.605  < 2e-16 ***\n",
              "month_3      3.294e-01  1.452e-02  22.691  < 2e-16 ***\n",
              "month_4      1.955e-01  1.183e-02  16.525  < 2e-16 ***\n",
              "month_5      5.852e-02  6.482e-03   9.028  < 2e-16 ***\n",
              "month_6      2.922e-02  7.126e-03   4.101 4.12e-05 ***\n",
              "poc_success  4.357e-01  1.013e-02  43.016  < 2e-16 ***\n",
              "poc_failure  1.398e-02  9.257e-03   1.510  0.13094    \n",
              "poc_other    3.277e-02  1.084e-02   3.023  0.00251 ** \n",
              "---\n",
              "Signif. codes:  0 ‘***’ 0.001 ‘**’ 0.01 ‘*’ 0.05 ‘.’ 0.1 ‘ ’ 1\n",
              "\n",
              "Residual standard error: 0.2698 on 36136 degrees of freedom\n",
              "Multiple R-squared:  0.2957,\tAdjusted R-squared:  0.2951 \n",
              "F-statistic: 489.4 on 31 and 36136 DF,  p-value: < 2.2e-16\n"
            ]
          },
          "metadata": {
            "tags": []
          }
        },
        {
          "output_type": "display_data",
          "data": {
            "text/plain": [
              "      pdays poc_failure   poc_other       job_3     month_1 \n",
              "   4.599847    4.116948    2.255517    2.160763    1.907643 "
            ],
            "text/latex": "\\begin{description*}\n\\item[pdays] 4.59984683988072\n\\item[poc\\textbackslash{}\\_failure] 4.11694776418616\n\\item[poc\\textbackslash{}\\_other] 2.25551725325059\n\\item[job\\textbackslash{}\\_3] 2.16076336323281\n\\item[month\\textbackslash{}\\_1] 1.9076428158642\n\\end{description*}\n",
            "text/markdown": "pdays\n:   4.59984683988072poc_failure\n:   4.11694776418616poc_other\n:   2.25551725325059job_3\n:   2.16076336323281month_1\n:   1.9076428158642\n\n",
            "text/html": [
              "<style>\n",
              ".dl-inline {width: auto; margin:0; padding: 0}\n",
              ".dl-inline>dt, .dl-inline>dd {float: none; width: auto; display: inline-block}\n",
              ".dl-inline>dt::after {content: \":\\0020\"; padding-right: .5ex}\n",
              ".dl-inline>dt:not(:first-of-type) {padding-left: .5ex}\n",
              "</style><dl class=dl-inline><dt>pdays</dt><dd>4.59984683988072</dd><dt>poc_failure</dt><dd>4.11694776418616</dd><dt>poc_other</dt><dd>2.25551725325059</dd><dt>job_3</dt><dd>2.16076336323281</dd><dt>month_1</dt><dd>1.9076428158642</dd></dl>\n"
            ]
          },
          "metadata": {
            "tags": []
          }
        },
        {
          "output_type": "display_data",
          "data": {
            "text/plain": [
              "\n",
              "Call:\n",
              "glm(formula = y ~ ., family = \"binomial\", data = xf)\n",
              "\n",
              "Deviance Residuals: \n",
              "    Min       1Q   Median       3Q      Max  \n",
              "-5.6906  -0.3821  -0.2566  -0.1609   3.2969  \n",
              "\n",
              "Coefficients:\n",
              "              Estimate Std. Error z value Pr(>|z|)    \n",
              "(Intercept) -4.029e+00  1.415e-01 -28.476  < 2e-16 ***\n",
              "age         -1.448e-03  2.427e-03  -0.597  0.55081    \n",
              "default     -1.351e-01  1.876e-01  -0.720  0.47147    \n",
              "balance      1.402e-05  5.807e-06   2.415  0.01574 *  \n",
              "housing     -7.748e-01  4.803e-02 -16.130  < 2e-16 ***\n",
              "loan        -4.867e-01  6.590e-02  -7.385 1.52e-13 ***\n",
              "day         -2.503e-03  2.573e-03  -0.973  0.33065    \n",
              "duration     4.114e-03  7.091e-05  58.019  < 2e-16 ***\n",
              "campaign    -8.615e-02  1.106e-02  -7.786 6.89e-15 ***\n",
              "pdays       -5.696e-05  3.416e-04  -0.167  0.86756    \n",
              "previous     2.500e-02  1.079e-02   2.317  0.02053 *  \n",
              "job_1       -6.463e-02  6.162e-02  -1.049  0.29421    \n",
              "job_2       -1.394e-01  6.956e-02  -2.004  0.04511 *  \n",
              "job_3        1.786e-03  7.095e-02   0.025  0.97991    \n",
              "job_4        5.315e-01  1.122e-01   4.739 2.15e-06 ***\n",
              "job_5        4.511e-01  9.881e-02   4.565 4.99e-06 ***\n",
              "job_6       -9.551e-02  1.180e-01  -0.809  0.41825    \n",
              "divorced     1.823e-01  6.564e-02   2.777  0.00548 ** \n",
              "single       2.904e-01  5.067e-02   5.731 9.95e-09 ***\n",
              "edu_primary -3.055e-01  6.841e-02  -4.465 8.01e-06 ***\n",
              "edu_tert     1.744e-01  5.485e-02   3.180  0.00147 ** \n",
              "co_cellular  1.027e+00  6.875e-02  14.933  < 2e-16 ***\n",
              "co_tel       8.844e-01  1.026e-01   8.624  < 2e-16 ***\n",
              "month_1     -1.283e-01  6.149e-02  -2.087  0.03689 *  \n",
              "month_2      1.283e+00  1.131e-01  11.343  < 2e-16 ***\n",
              "month_3      2.108e+00  1.309e-01  16.111  < 2e-16 ***\n",
              "month_4      1.324e+00  1.172e-01  11.297  < 2e-16 ***\n",
              "month_5      6.117e-01  7.954e-02   7.691 1.45e-14 ***\n",
              "month_6      2.858e-01  9.084e-02   3.146  0.00166 ** \n",
              "poc_success  2.396e+00  9.874e-02  24.263  < 2e-16 ***\n",
              "poc_failure  7.183e-02  1.069e-01   0.672  0.50180    \n",
              "poc_other    2.559e-01  1.229e-01   2.081  0.03739 *  \n",
              "---\n",
              "Signif. codes:  0 ‘***’ 0.001 ‘**’ 0.01 ‘*’ 0.05 ‘.’ 0.1 ‘ ’ 1\n",
              "\n",
              "(Dispersion parameter for binomial family taken to be 1)\n",
              "\n",
              "    Null deviance: 26104  on 36167  degrees of freedom\n",
              "Residual deviance: 17526  on 36136  degrees of freedom\n",
              "AIC: 17590\n",
              "\n",
              "Number of Fisher Scoring iterations: 6\n"
            ]
          },
          "metadata": {
            "tags": []
          }
        }
      ]
    },
    {
      "cell_type": "markdown",
      "metadata": {
        "id": "2gnzMzO7yfTN"
      },
      "source": [
        "Tuning the Model"
      ]
    },
    {
      "cell_type": "code",
      "metadata": {
        "colab": {
          "base_uri": "https://localhost:8080/",
          "height": 918
        },
        "id": "z89zjcCAyfhs",
        "outputId": "92c21245-32ca-4707-974c-27512f30db98"
      },
      "source": [
        "logreg <- glm(y ~ ., data=df_train, family=\"binomial\")\n",
        "summary(logreg)"
      ],
      "execution_count": 56,
      "outputs": [
        {
          "output_type": "display_data",
          "data": {
            "text/plain": [
              "\n",
              "Call:\n",
              "glm(formula = y ~ ., family = \"binomial\", data = df_train)\n",
              "\n",
              "Deviance Residuals: \n",
              "    Min       1Q   Median       3Q      Max  \n",
              "-5.6903  -0.3821  -0.2566  -0.1610   3.2968  \n",
              "\n",
              "Coefficients:\n",
              "              Estimate Std. Error z value Pr(>|z|)    \n",
              "(Intercept) -3.999e+00  1.730e-01 -23.121  < 2e-16 ***\n",
              "age         -1.514e-03  2.437e-03  -0.621  0.53449    \n",
              "default     -1.355e-01  1.877e-01  -0.722  0.47039    \n",
              "balance      1.402e-05  5.808e-06   2.414  0.01580 *  \n",
              "housing     -7.743e-01  4.806e-02 -16.113  < 2e-16 ***\n",
              "loan        -4.858e-01  6.595e-02  -7.367 1.75e-13 ***\n",
              "day         -2.513e-03  2.573e-03  -0.977  0.32866    \n",
              "duration     4.114e-03  7.091e-05  58.015  < 2e-16 ***\n",
              "campaign    -8.613e-02  1.106e-02  -7.785 6.99e-15 ***\n",
              "pdays       -5.714e-05  3.416e-04  -0.167  0.86714    \n",
              "previous     2.502e-02  1.079e-02   2.319  0.02041 *  \n",
              "job_1       -6.495e-02  6.163e-02  -1.054  0.29193    \n",
              "job_2       -1.393e-01  6.956e-02  -2.003  0.04517 *  \n",
              "job_3        4.382e-04  7.108e-02   0.006  0.99508    \n",
              "job_4        5.270e-01  1.131e-01   4.658 3.19e-06 ***\n",
              "job_5        4.518e-01  9.883e-02   4.571 4.85e-06 ***\n",
              "job_6       -9.550e-02  1.180e-01  -0.809  0.41829    \n",
              "divorced     1.828e-01  6.567e-02   2.784  0.00536 ** \n",
              "single       2.901e-01  5.068e-02   5.724 1.04e-08 ***\n",
              "edu_primary -3.328e-01  1.136e-01  -2.930  0.00339 ** \n",
              "edu_sec     -3.010e-02  9.990e-02  -0.301  0.76315    \n",
              "edu_tert     1.475e-01  1.049e-01   1.406  0.15963    \n",
              "co_cellular  1.027e+00  6.879e-02  14.935  < 2e-16 ***\n",
              "co_tel       8.846e-01  1.026e-01   8.626  < 2e-16 ***\n",
              "month_1     -1.284e-01  6.149e-02  -2.088  0.03683 *  \n",
              "month_2      1.282e+00  1.131e-01  11.337  < 2e-16 ***\n",
              "month_3      2.108e+00  1.309e-01  16.107  < 2e-16 ***\n",
              "month_4      1.323e+00  1.172e-01  11.295  < 2e-16 ***\n",
              "month_5      6.115e-01  7.954e-02   7.688 1.49e-14 ***\n",
              "month_6      2.857e-01  9.084e-02   3.145  0.00166 ** \n",
              "poc_success  2.396e+00  9.874e-02  24.262  < 2e-16 ***\n",
              "poc_failure  7.171e-02  1.070e-01   0.670  0.50254    \n",
              "poc_other    2.562e-01  1.229e-01   2.084  0.03713 *  \n",
              "---\n",
              "Signif. codes:  0 ‘***’ 0.001 ‘**’ 0.01 ‘*’ 0.05 ‘.’ 0.1 ‘ ’ 1\n",
              "\n",
              "(Dispersion parameter for binomial family taken to be 1)\n",
              "\n",
              "    Null deviance: 26104  on 36167  degrees of freedom\n",
              "Residual deviance: 17526  on 36135  degrees of freedom\n",
              "AIC: 17592\n",
              "\n",
              "Number of Fisher Scoring iterations: 6\n"
            ]
          },
          "metadata": {
            "tags": []
          }
        }
      ]
    },
    {
      "cell_type": "markdown",
      "metadata": {
        "id": "qrhJYofQynI9"
      },
      "source": [
        "Removing the unsignificant variables"
      ]
    },
    {
      "cell_type": "code",
      "metadata": {
        "colab": {
          "base_uri": "https://localhost:8080/",
          "height": 833
        },
        "id": "-N0RNZtSynVz",
        "outputId": "c8e9ecbb-2ad9-4630-ddb5-775ccd4825cd"
      },
      "source": [
        "# removing unsignificant variables\n",
        "\n",
        "logreg1 = glm(y ~ balance + housing + loan + duration + campaign  +previous+ \n",
        "                      job_2 + job_5+job_4 + divorced + single + edu_primary +edu_tert+ \n",
        "                      co_cellular + co_tel +  month_2 + month_3 + month_4 + \n",
        "                      month_5 + month_6 + poc_success + poc_failure + poc_other,data=df_train,family=\"binomial\")\n",
        "summary(logreg1)"
      ],
      "execution_count": 57,
      "outputs": [
        {
          "output_type": "display_data",
          "data": {
            "text/plain": [
              "\n",
              "Call:\n",
              "glm(formula = y ~ balance + housing + loan + duration + campaign + \n",
              "    previous + job_2 + job_5 + job_4 + divorced + single + edu_primary + \n",
              "    edu_tert + co_cellular + co_tel + month_2 + month_3 + month_4 + \n",
              "    month_5 + month_6 + poc_success + poc_failure + poc_other, \n",
              "    family = \"binomial\", data = df_train)\n",
              "\n",
              "Deviance Residuals: \n",
              "    Min       1Q   Median       3Q      Max  \n",
              "-5.7089  -0.3830  -0.2569  -0.1608   3.3266  \n",
              "\n",
              "Coefficients:\n",
              "              Estimate Std. Error z value Pr(>|z|)    \n",
              "(Intercept) -4.227e+00  8.242e-02 -51.286  < 2e-16 ***\n",
              "balance      1.369e-05  5.783e-06   2.367  0.01792 *  \n",
              "housing     -7.300e-01  4.432e-02 -16.472  < 2e-16 ***\n",
              "loan        -4.927e-01  6.548e-02  -7.525 5.27e-14 ***\n",
              "duration     4.115e-03  7.087e-05  58.069  < 2e-16 ***\n",
              "campaign    -8.869e-02  1.098e-02  -8.077 6.61e-16 ***\n",
              "previous     2.491e-02  1.075e-02   2.316  0.02053 *  \n",
              "job_2       -1.199e-01  6.267e-02  -1.913  0.05574 .  \n",
              "job_5        4.469e-01  8.039e-02   5.559 2.71e-08 ***\n",
              "job_4        5.801e-01  1.052e-01   5.513 3.53e-08 ***\n",
              "divorced     1.782e-01  6.529e-02   2.730  0.00634 ** \n",
              "single       3.050e-01  4.625e-02   6.595 4.25e-11 ***\n",
              "edu_primary -2.994e-01  6.730e-02  -4.449 8.62e-06 ***\n",
              "edu_tert     1.792e-01  4.464e-02   4.014 5.98e-05 ***\n",
              "co_cellular  9.816e-01  6.575e-02  14.929  < 2e-16 ***\n",
              "co_tel       8.344e-01  1.001e-01   8.335  < 2e-16 ***\n",
              "month_2      1.393e+00  1.024e-01  13.604  < 2e-16 ***\n",
              "month_3      2.215e+00  1.217e-01  18.203  < 2e-16 ***\n",
              "month_4      1.419e+00  1.065e-01  13.314  < 2e-16 ***\n",
              "month_5      6.977e-01  6.760e-02  10.320  < 2e-16 ***\n",
              "month_6      4.049e-01  7.427e-02   5.451 5.02e-08 ***\n",
              "poc_success  2.398e+00  8.017e-02  29.908  < 2e-16 ***\n",
              "poc_failure  8.081e-02  7.073e-02   1.143  0.25319    \n",
              "poc_other    2.642e-01  9.806e-02   2.694  0.00705 ** \n",
              "---\n",
              "Signif. codes:  0 ‘***’ 0.001 ‘**’ 0.01 ‘*’ 0.05 ‘.’ 0.1 ‘ ’ 1\n",
              "\n",
              "(Dispersion parameter for binomial family taken to be 1)\n",
              "\n",
              "    Null deviance: 26104  on 36167  degrees of freedom\n",
              "Residual deviance: 17535  on 36144  degrees of freedom\n",
              "AIC: 17583\n",
              "\n",
              "Number of Fisher Scoring iterations: 6\n"
            ]
          },
          "metadata": {
            "tags": []
          }
        }
      ]
    },
    {
      "cell_type": "markdown",
      "metadata": {
        "id": "qjZS6dv64ZXF"
      },
      "source": [
        "# Predicting the output"
      ]
    },
    {
      "cell_type": "code",
      "metadata": {
        "colab": {
          "base_uri": "https://localhost:8080/",
          "height": 51
        },
        "id": "lkARt_K3y9mV",
        "outputId": "6deda2d5-b975-437e-fdaf-b35a9bf72908"
      },
      "source": [
        "prob<-predict(logreg1,newdata = df_test,type=\"response\")\n",
        "\n",
        "summary(prob)"
      ],
      "execution_count": 58,
      "outputs": [
        {
          "output_type": "display_data",
          "data": {
            "text/plain": [
              "     Min.   1st Qu.    Median      Mean   3rd Qu.      Max. \n",
              "0.0002463 0.0204428 0.0442783 0.1165611 0.1071450 0.9999898 "
            ]
          },
          "metadata": {
            "tags": []
          }
        }
      ]
    },
    {
      "cell_type": "markdown",
      "metadata": {
        "id": "HSLWs3OApGlQ"
      },
      "source": [
        "# Creating Confusion Matrix"
      ]
    },
    {
      "cell_type": "code",
      "metadata": {
        "colab": {
          "base_uri": "https://localhost:8080/",
          "height": 85
        },
        "id": "b8L6f-WKpG4O",
        "outputId": "69bfcaea-e8c1-40b1-d4e7-b20a2efc1a8b"
      },
      "source": [
        "confusion<-table(prob>0.5,df_test$y)\n",
        "confusion"
      ],
      "execution_count": 59,
      "outputs": [
        {
          "output_type": "display_data",
          "data": {
            "text/plain": [
              "       \n",
              "           0    1\n",
              "  FALSE 7796  698\n",
              "  TRUE   189  360"
            ]
          },
          "metadata": {
            "tags": []
          }
        }
      ]
    },
    {
      "cell_type": "markdown",
      "metadata": {
        "id": "9ck4dNsr5Mzj"
      },
      "source": [
        "# Finding Accuracy"
      ]
    },
    {
      "cell_type": "code",
      "metadata": {
        "colab": {
          "base_uri": "https://localhost:8080/",
          "height": 34
        },
        "id": "Z1aWEBTO5NCy",
        "outputId": "01c5cbb5-7048-489f-ea98-0cf83cdc1a08"
      },
      "source": [
        "Accuracy<-sum(diag(confusion)/sum(confusion))\n",
        "Accuracy "
      ],
      "execution_count": 16,
      "outputs": [
        {
          "output_type": "display_data",
          "data": {
            "text/plain": [
              "[1] 0.9019131"
            ],
            "text/latex": "0.901913081941833",
            "text/markdown": "0.901913081941833",
            "text/html": [
              "0.901913081941833"
            ]
          },
          "metadata": {
            "tags": []
          }
        }
      ]
    },
    {
      "cell_type": "markdown",
      "metadata": {
        "id": "eX35NvA95R95"
      },
      "source": [
        "**As, we can observe the Accuracy of the classification model is 90.1%**"
      ]
    },
    {
      "cell_type": "markdown",
      "metadata": {
        "id": "GvO2gvp35SMq"
      },
      "source": [
        "# RandomForest"
      ]
    },
    {
      "cell_type": "markdown",
      "metadata": {
        "id": "VxLm-O8Fp-HB"
      },
      "source": [
        "Loading The Data"
      ]
    },
    {
      "cell_type": "code",
      "metadata": {
        "id": "0MR90mmWPQWe"
      },
      "source": [
        "df2<-read.csv(\"bank-full.csv\",sep = \";\",header = T)"
      ],
      "execution_count": 60,
      "outputs": []
    },
    {
      "cell_type": "markdown",
      "metadata": {
        "id": "S3V0qhudqDJB"
      },
      "source": [
        "Creating Dummy variables"
      ]
    },
    {
      "cell_type": "code",
      "metadata": {
        "id": "d5RXsmZXPXWg"
      },
      "source": [
        "t=table(df2$job)\n",
        "final=round(prop.table(table(df2$job,df2$y),1)*100,1)\n",
        "final\n",
        "s=addmargins(final,2) \n",
        "sort(s[,1])\n",
        "df2=df2 %>% \n",
        "  mutate(job_1=as.numeric(job %in% c(\"self-employed\",\"unknown\",\"technician\")), \n",
        "         job_2=as.numeric(job %in% c(\"services\",\"housemaid\",\"entrepreneur\")),\n",
        "         job_3=as.numeric(job %in% c(\"management\",\"admin\")),\n",
        "         job_4=as.numeric(job==\"student\"),\n",
        "         job_5=as.numeric(job==\"retired\"),\n",
        "         job_6=as.numeric(job==\"unemployed\")) %>% \n",
        "  select(-job)\n",
        "## dummy variable for material\n",
        "t=table(df2$marital)\n",
        "df2=df2%>%\n",
        "  mutate(divorced=as.numeric(marital %in% c(\"divorced\")),\n",
        "         single=as.numeric(marital %in% c(\"single\")),\n",
        "         \n",
        "  ) %>% \n",
        "  select(-marital)\n",
        "\n",
        "##Making dummies for variable education\n",
        "df2=df2 %>% \n",
        "  mutate(edu_primary=as.numeric(education %in% c(\"primary\")),\n",
        "         edu_sec=as.numeric(education %in% c(\"secondary\")),\n",
        "         edu_tert=as.numeric(education %in% c(\"tertiary\"))\n",
        "  ) %>% \n",
        "  select(-education)\n",
        "##Making dummies for varible default\n",
        "df2$default=as.numeric(df2$default==\"yes\")\n",
        "##Making dummies for variable housing\n",
        "df2$housing=as.numeric(df2$housing==\"yes\")\n",
        "##Making dummies for variable loan\n",
        "df2$loan=as.numeric(df2$loan==\"yes\")\n",
        "##dummy variable for contact\n",
        "df2=df2 %>% \n",
        "  mutate(co_cellular=as.numeric(contact %in% c(\"cellular\")),\n",
        "         co_tel=as.numeric(contact %in% c(\"telephone\"))\n",
        "  ) %>% \n",
        "  select(-contact)\n",
        "##Making dummies for variable month\n",
        "finalmnth=round(prop.table(table(df2$month,df2$y),1)*100,1)\n",
        "sss=addmargins(finalmnth,2) #adding margin across Y\n",
        "sort(sss[,1])\n",
        "df2=df2 %>% \n",
        "  mutate(month_1=as.numeric(month %in% c(\"aug\",\"jun\",\"nov\",\"jan\",\"jul\")), \n",
        "         month_2=as.numeric(month %in% c(\"dec\",\"sep\")),\n",
        "         month_3=as.numeric(month==\"mar\"),\n",
        "         month_4=as.numeric(month==\"oct\"),\n",
        "         month_5=as.numeric(month==\"apr\"),\n",
        "         month_6=as.numeric(month==\"feb\")) %>% \n",
        "  select(-month)\n",
        "## dummies for variable outcome\n",
        "df2=df2 %>% \n",
        "  mutate(poc_success=as.numeric(poutcome %in% c(\"success\")),\n",
        "         poc_failure=as.numeric(poutcome %in% c(\"failure\")),\n",
        "         poc_other=as.numeric(poutcome %in% c(\"other\"))\n",
        "  )%>% \n",
        "  select(-poutcome)\n",
        "\n",
        "df2$y=as.factor(df2$y)\n",
        "attach(df2)"
      ],
      "execution_count": null,
      "outputs": []
    },
    {
      "cell_type": "markdown",
      "metadata": {
        "id": "L5XI6O9gqNnu"
      },
      "source": [
        "Splitting the data into Train and Test data"
      ]
    },
    {
      "cell_type": "code",
      "metadata": {
        "id": "WoHGA_8gP3iG"
      },
      "source": [
        "set.seed(456)\n",
        "split <- initial_split(df2, prop = .8, strata = y)\n",
        "df2_train <- training(split)\n",
        "df2_test <- testing(split)"
      ],
      "execution_count": 63,
      "outputs": []
    },
    {
      "cell_type": "markdown",
      "metadata": {
        "id": "CQqrJBfJqWz_"
      },
      "source": [
        "# Building Random Forest Model"
      ]
    },
    {
      "cell_type": "markdown",
      "metadata": {
        "id": "CHTtkDdbqsEH"
      },
      "source": [
        "where ntree=500,mtry is not given"
      ]
    },
    {
      "cell_type": "code",
      "metadata": {
        "colab": {
          "base_uri": "https://localhost:8080/",
          "height": 221
        },
        "id": "KgRoM9DVKTZl",
        "outputId": "ff9f2b99-e65f-4c05-8589-db9dd60a4b94"
      },
      "source": [
        "set.seed(501)\n",
        "model <- randomForest(y~ ., data = df2_train, ntree = 500)\n",
        "\n",
        "model"
      ],
      "execution_count": 64,
      "outputs": [
        {
          "output_type": "display_data",
          "data": {
            "text/plain": [
              "\n",
              "Call:\n",
              " randomForest(formula = y ~ ., data = df2_train, ntree = 500) \n",
              "               Type of random forest: classification\n",
              "                     Number of trees: 500\n",
              "No. of variables tried at each split: 5\n",
              "\n",
              "        OOB estimate of  error rate: 9.48%\n",
              "Confusion matrix:\n",
              "       no  yes class.error\n",
              "no  31169  768  0.02404734\n",
              "yes  2659 1572  0.62845663"
            ]
          },
          "metadata": {
            "tags": []
          }
        }
      ]
    },
    {
      "cell_type": "markdown",
      "metadata": {
        "id": "dvzV8y8VKqlf"
      },
      "source": [
        "We can observe the error rate : 9.48%"
      ]
    },
    {
      "cell_type": "markdown",
      "metadata": {
        "id": "oYmXGcNurEb5"
      },
      "source": [
        "# Evaluating Model Performance\n",
        "\n"
      ]
    },
    {
      "cell_type": "markdown",
      "metadata": {
        "id": "ttAnv8HzrNwW"
      },
      "source": [
        "By adjusting the tress and mtry performance of the random forest can be improved"
      ]
    },
    {
      "cell_type": "markdown",
      "metadata": {
        "id": "8QXvcSlqq8h4"
      },
      "source": [
        "Genetaing the plot"
      ]
    },
    {
      "cell_type": "code",
      "metadata": {
        "colab": {
          "base_uri": "https://localhost:8080/",
          "height": 437
        },
        "id": "uu_iUyojKpzL",
        "outputId": "e5933718-f785-4dc7-bef3-1db37479fbe6"
      },
      "source": [
        "oob.error.data <- data.frame(\n",
        "  Trees=rep(1:nrow(model$err.rate), times=3),\n",
        "  Type=rep(c(\"OOB\", \"no\", \"yes\"), each=nrow(model$err.rate)),\n",
        "  Error=c(model$err.rate[,\"OOB\"], \n",
        "          model$err.rate[,\"no\"], \n",
        "          model$err.rate[,\"yes\"]))\n",
        "\n",
        "ggplot(data=oob.error.data, aes(x=Trees, y=Error)) +\n",
        "  geom_line(aes(color=Type))"
      ],
      "execution_count": 65,
      "outputs": [
        {
          "output_type": "display_data",
          "data": {
            "image/png": "[encoded data removed]",
            "text/plain": [
              "plot without title"
            ]
          },
          "metadata": {
            "tags": [],
            "image/png": {
              "width": 420,
              "height": 420
            }
          }
        }
      ]
    },
    {
      "cell_type": "markdown",
      "metadata": {
        "id": "0f7lVms6r6iY"
      },
      "source": [
        "Adjusting the ntree to 1000"
      ]
    },
    {
      "cell_type": "code",
      "metadata": {
        "colab": {
          "base_uri": "https://localhost:8080/",
          "height": 221
        },
        "id": "xV3RLm_USwbS",
        "outputId": "e00f9123-050c-4b44-9f5e-3f192634535f"
      },
      "source": [
        "set.seed(502)\n",
        "model <- randomForest(y~ ., data = df2_train, ntree = 1000)\n",
        "\n",
        "model"
      ],
      "execution_count": 66,
      "outputs": [
        {
          "output_type": "display_data",
          "data": {
            "text/plain": [
              "\n",
              "Call:\n",
              " randomForest(formula = y ~ ., data = df2_train, ntree = 1000) \n",
              "               Type of random forest: classification\n",
              "                     Number of trees: 1000\n",
              "No. of variables tried at each split: 5\n",
              "\n",
              "        OOB estimate of  error rate: 9.48%\n",
              "Confusion matrix:\n",
              "       no  yes class.error\n",
              "no  31178  759  0.02376554\n",
              "yes  2668 1563  0.63058379"
            ]
          },
          "metadata": {
            "tags": []
          }
        }
      ]
    },
    {
      "cell_type": "code",
      "metadata": {
        "id": "2IS1WU-RsNYF"
      },
      "source": [
        "oob.error.data <- data.frame(\n",
        "  Trees=rep(1:nrow(model$err.rate), times=3),\n",
        "  Type=rep(c(\"OOB\", \"no\", \"yes\"), each=nrow(model$err.rate)),\n",
        "  Error=c(model$err.rate[,\"OOB\"], \n",
        "          model$err.rate[,\"no\"], \n",
        "          model$err.rate[,\"yes\"]))\n",
        "\n",
        "ggplot(data=oob.error.data, aes(x=Trees, y=Error)) +\n",
        "  geom_line(aes(color=Type))"
      ],
      "execution_count": null,
      "outputs": []
    },
    {
      "cell_type": "markdown",
      "metadata": {
        "id": "7Ul2ZrJbsTz4"
      },
      "source": [
        "By Observing the above plot it is clear that error rate stabilizes mostly after 100 trees so adding more trees didn't help"
      ]
    },
    {
      "cell_type": "markdown",
      "metadata": {
        "id": "KIf2NFewZjlt"
      },
      "source": [
        "# adjusting the mtry\n",
        "\n",
        "mtry=3"
      ]
    },
    {
      "cell_type": "code",
      "metadata": {
        "colab": {
          "base_uri": "https://localhost:8080/",
          "height": 221
        },
        "id": "3YIMd-AmZbq3",
        "outputId": "0e81ae8f-a332-4fb3-f4bf-bfb2799a37e4"
      },
      "source": [
        "set.seed(504)\n",
        "model <- randomForest(y~ ., data = df2_train, ntree = 1000,mtry = 3)\n",
        "\n",
        "model"
      ],
      "execution_count": 28,
      "outputs": [
        {
          "output_type": "display_data",
          "data": {
            "text/plain": [
              "\n",
              "Call:\n",
              " randomForest(formula = y ~ ., data = df2_train, ntree = 1000,      mtry = 3) \n",
              "               Type of random forest: classification\n",
              "                     Number of trees: 1000\n",
              "No. of variables tried at each split: 3\n",
              "\n",
              "        OOB estimate of  error rate: 10.14%\n",
              "Confusion matrix:\n",
              "       no yes class.error\n",
              "no  31614 323  0.01011366\n",
              "yes  3345 886  0.79059324"
            ]
          },
          "metadata": {
            "tags": []
          }
        }
      ]
    },
    {
      "cell_type": "markdown",
      "metadata": {
        "id": "ye4Nq0-us_Yf"
      },
      "source": [
        "mtry=7"
      ]
    },
    {
      "cell_type": "code",
      "metadata": {
        "colab": {
          "base_uri": "https://localhost:8080/",
          "height": 221
        },
        "id": "nvGv4nWSaQP1",
        "outputId": "0681f567-94fb-4c90-c5d8-f0918e4040f7"
      },
      "source": [
        "set.seed(505)\n",
        "model <- randomForest(y~ ., data = df2_train, ntree = 1000,mtry = 7)\n",
        "\n",
        "model"
      ],
      "execution_count": 29,
      "outputs": [
        {
          "output_type": "display_data",
          "data": {
            "text/plain": [
              "\n",
              "Call:\n",
              " randomForest(formula = y ~ ., data = df2_train, ntree = 1000,      mtry = 7) \n",
              "               Type of random forest: classification\n",
              "                     Number of trees: 1000\n",
              "No. of variables tried at each split: 7\n",
              "\n",
              "        OOB estimate of  error rate: 9.41%\n",
              "Confusion matrix:\n",
              "       no  yes class.error\n",
              "no  30964  973  0.03046623\n",
              "yes  2431 1800  0.57456866"
            ]
          },
          "metadata": {
            "tags": []
          }
        }
      ]
    },
    {
      "cell_type": "markdown",
      "metadata": {
        "id": "Ya4IBuf6tHbw"
      },
      "source": [
        "mtry=10"
      ]
    },
    {
      "cell_type": "code",
      "metadata": {
        "colab": {
          "base_uri": "https://localhost:8080/",
          "height": 221
        },
        "id": "UkjGR2GcYFqU",
        "outputId": "d2612c08-042a-40a2-a0b2-94c67dfcbbac"
      },
      "source": [
        "set.seed(503)\n",
        "model <- randomForest(y~ ., data = df2_train, ntree = 1000,mtry = 10)\n",
        "\n",
        "model"
      ],
      "execution_count": 26,
      "outputs": [
        {
          "output_type": "display_data",
          "data": {
            "text/plain": [
              "\n",
              "Call:\n",
              " randomForest(formula = y ~ ., data = df2_train, ntree = 1000,      mtry = 10) \n",
              "               Type of random forest: classification\n",
              "                     Number of trees: 1000\n",
              "No. of variables tried at each split: 10\n",
              "\n",
              "        OOB estimate of  error rate: 9.4%\n",
              "Confusion matrix:\n",
              "       no  yes class.error\n",
              "no  30866 1071  0.03353477\n",
              "yes  2328 1903  0.55022453"
            ]
          },
          "metadata": {
            "tags": []
          }
        }
      ]
    },
    {
      "cell_type": "markdown",
      "metadata": {
        "id": "T64UUwKMdNML"
      },
      "source": [
        "I got the best performance when trees = 1000 and mtry =10"
      ]
    },
    {
      "cell_type": "markdown",
      "metadata": {
        "id": "7uR-6B3gtUmd"
      },
      "source": [
        "# Predicting the Output"
      ]
    },
    {
      "cell_type": "code",
      "metadata": {
        "colab": {
          "base_uri": "https://localhost:8080/",
          "height": 34
        },
        "id": "6foAh_VPdQ1f",
        "outputId": "6d3617f2-4a3f-41b4-fbcd-93fdddf0e405"
      },
      "source": [
        "rf_pred <- predict(model,df2_test)\n",
        "\n",
        "summary(rf_pred)"
      ],
      "execution_count": 30,
      "outputs": [
        {
          "output_type": "display_data",
          "data": {
            "text/plain": [
              "  no  yes \n",
              "8326  717 "
            ],
            "text/latex": "\\begin{description*}\n\\item[no] 8326\n\\item[yes] 717\n\\end{description*}\n",
            "text/markdown": "no\n:   8326yes\n:   717\n\n",
            "text/html": [
              "<style>\n",
              ".dl-inline {width: auto; margin:0; padding: 0}\n",
              ".dl-inline>dt, .dl-inline>dd {float: none; width: auto; display: inline-block}\n",
              ".dl-inline>dt::after {content: \":\\0020\"; padding-right: .5ex}\n",
              ".dl-inline>dt:not(:first-of-type) {padding-left: .5ex}\n",
              "</style><dl class=dl-inline><dt>no</dt><dd>8326</dd><dt>yes</dt><dd>717</dd></dl>\n"
            ]
          },
          "metadata": {
            "tags": []
          }
        }
      ]
    },
    {
      "cell_type": "markdown",
      "metadata": {
        "id": "w-aXEp9HtdKO"
      },
      "source": [
        "# Creating Confusion Matrix"
      ]
    },
    {
      "cell_type": "code",
      "metadata": {
        "colab": {
          "base_uri": "https://localhost:8080/",
          "height": 85
        },
        "id": "-TarcH9idwJ2",
        "outputId": "35ad0519-6972-4ce8-b5c2-2bb772a8d1b2"
      },
      "source": [
        "rf_confusion <- table(rf_pred,df2_test$y)\n",
        "\n",
        "rf_confusion"
      ],
      "execution_count": 34,
      "outputs": [
        {
          "output_type": "display_data",
          "data": {
            "text/plain": [
              "       \n",
              "rf_pred   no  yes\n",
              "    no  7747  579\n",
              "    yes  238  479"
            ]
          },
          "metadata": {
            "tags": []
          }
        }
      ]
    },
    {
      "cell_type": "markdown",
      "metadata": {
        "id": "TA_QNSuVe8KS"
      },
      "source": [
        "# Finding Accuracy"
      ]
    },
    {
      "cell_type": "code",
      "metadata": {
        "colab": {
          "base_uri": "https://localhost:8080/",
          "height": 34
        },
        "id": "r5_ATwFle8b2",
        "outputId": "7a663a68-9c71-4d02-f92d-7503a2e9fbad"
      },
      "source": [
        "Accuracy<-sum(diag(rf_confusion)/sum(rf_confusion))\n",
        "Accuracy"
      ],
      "execution_count": 35,
      "outputs": [
        {
          "output_type": "display_data",
          "data": {
            "text/plain": [
              "[1] 0.9096539"
            ],
            "text/latex": "0.909653875926131",
            "text/markdown": "0.909653875926131",
            "text/html": [
              "0.909653875926131"
            ]
          },
          "metadata": {
            "tags": []
          }
        }
      ]
    },
    {
      "cell_type": "code",
      "metadata": {
        "colab": {
          "base_uri": "https://localhost:8080/"
        },
        "id": "Fuci1fX9gdYQ",
        "outputId": "a20cacda-cc92-4102-9be7-9208352e92cc"
      },
      "source": [
        "install.packages(\"caTools\")\n",
        "\n",
        "library(caTools)"
      ],
      "execution_count": 38,
      "outputs": [
        {
          "output_type": "stream",
          "text": [
            "Installing package into ‘/usr/local/lib/R/site-library’\n",
            "(as ‘lib’ is unspecified)\n",
            "\n",
            "also installing the dependency ‘bitops’\n",
            "\n",
            "\n"
          ],
          "name": "stderr"
        }
      ]
    },
    {
      "cell_type": "code",
      "metadata": {
        "colab": {
          "base_uri": "https://localhost:8080/",
          "height": 1000
        },
        "id": "0hHjcLAgg6lT",
        "outputId": "cb4b26e2-d56a-4048-88d4-4761aa518d58"
      },
      "source": [
        "importance(model)\n",
        "  "
      ],
      "execution_count": 40,
      "outputs": [
        {
          "output_type": "display_data",
          "data": {
            "text/plain": [
              "            MeanDecreaseGini\n",
              "age          701.46375      \n",
              "default       12.83527      \n",
              "balance      733.72857      \n",
              "housing      175.88992      \n",
              "loan          68.98281      \n",
              "day          654.03115      \n",
              "duration    2043.34260      \n",
              "campaign     274.98356      \n",
              "pdays        346.15935      \n",
              "previous     174.88569      \n",
              "job_1         86.89554      \n",
              "job_2         67.42009      \n",
              "job_3         78.24919      \n",
              "job_4         35.43447      \n",
              "job_5         35.74429      \n",
              "job_6         34.53412      \n",
              "divorced      67.54718      \n",
              "single        89.34123      \n",
              "edu_primary   53.78187      \n",
              "edu_sec       89.21741      \n",
              "edu_tert      84.48503      \n",
              "co_cellular  101.14729      \n",
              "co_tel        36.69114      \n",
              "month_1      119.11414      \n",
              "month_2       81.36537      \n",
              "month_3       95.84845      \n",
              "month_4       75.63362      \n",
              "month_5       84.86629      \n",
              "month_6       60.07720      \n",
              "poc_success  427.84272      \n",
              "poc_failure   61.69206      \n",
              "poc_other     38.56653      "
            ],
            "text/latex": "A matrix: 32 × 1 of type dbl\n\\begin{tabular}{r|l}\n  & MeanDecreaseGini\\\\\n\\hline\n\tage &  701.46375\\\\\n\tdefault &   12.83527\\\\\n\tbalance &  733.72857\\\\\n\thousing &  175.88992\\\\\n\tloan &   68.98281\\\\\n\tday &  654.03115\\\\\n\tduration & 2043.34260\\\\\n\tcampaign &  274.98356\\\\\n\tpdays &  346.15935\\\\\n\tprevious &  174.88569\\\\\n\tjob\\_1 &   86.89554\\\\\n\tjob\\_2 &   67.42009\\\\\n\tjob\\_3 &   78.24919\\\\\n\tjob\\_4 &   35.43447\\\\\n\tjob\\_5 &   35.74429\\\\\n\tjob\\_6 &   34.53412\\\\\n\tdivorced &   67.54718\\\\\n\tsingle &   89.34123\\\\\n\tedu\\_primary &   53.78187\\\\\n\tedu\\_sec &   89.21741\\\\\n\tedu\\_tert &   84.48503\\\\\n\tco\\_cellular &  101.14729\\\\\n\tco\\_tel &   36.69114\\\\\n\tmonth\\_1 &  119.11414\\\\\n\tmonth\\_2 &   81.36537\\\\\n\tmonth\\_3 &   95.84845\\\\\n\tmonth\\_4 &   75.63362\\\\\n\tmonth\\_5 &   84.86629\\\\\n\tmonth\\_6 &   60.07720\\\\\n\tpoc\\_success &  427.84272\\\\\n\tpoc\\_failure &   61.69206\\\\\n\tpoc\\_other &   38.56653\\\\\n\\end{tabular}\n",
            "text/markdown": "\nA matrix: 32 × 1 of type dbl\n\n| <!--/--> | MeanDecreaseGini |\n|---|---|\n| age |  701.46375 |\n| default |   12.83527 |\n| balance |  733.72857 |\n| housing |  175.88992 |\n| loan |   68.98281 |\n| day |  654.03115 |\n| duration | 2043.34260 |\n| campaign |  274.98356 |\n| pdays |  346.15935 |\n| previous |  174.88569 |\n| job_1 |   86.89554 |\n| job_2 |   67.42009 |\n| job_3 |   78.24919 |\n| job_4 |   35.43447 |\n| job_5 |   35.74429 |\n| job_6 |   34.53412 |\n| divorced |   67.54718 |\n| single |   89.34123 |\n| edu_primary |   53.78187 |\n| edu_sec |   89.21741 |\n| edu_tert |   84.48503 |\n| co_cellular |  101.14729 |\n| co_tel |   36.69114 |\n| month_1 |  119.11414 |\n| month_2 |   81.36537 |\n| month_3 |   95.84845 |\n| month_4 |   75.63362 |\n| month_5 |   84.86629 |\n| month_6 |   60.07720 |\n| poc_success |  427.84272 |\n| poc_failure |   61.69206 |\n| poc_other |   38.56653 |\n\n",
            "text/html": [
              "<table class=\"dataframe\">\n",
              "<caption>A matrix: 32 × 1 of type dbl</caption>\n",
              "<thead>\n",
              "\t<tr><th></th><th scope=col>MeanDecreaseGini</th></tr>\n",
              "</thead>\n",
              "<tbody>\n",
              "\t<tr><th scope=row>age</th><td> 701.46375</td></tr>\n",
              "\t<tr><th scope=row>default</th><td>  12.83527</td></tr>\n",
              "\t<tr><th scope=row>balance</th><td> 733.72857</td></tr>\n",
              "\t<tr><th scope=row>housing</th><td> 175.88992</td></tr>\n",
              "\t<tr><th scope=row>loan</th><td>  68.98281</td></tr>\n",
              "\t<tr><th scope=row>day</th><td> 654.03115</td></tr>\n",
              "\t<tr><th scope=row>duration</th><td>2043.34260</td></tr>\n",
              "\t<tr><th scope=row>campaign</th><td> 274.98356</td></tr>\n",
              "\t<tr><th scope=row>pdays</th><td> 346.15935</td></tr>\n",
              "\t<tr><th scope=row>previous</th><td> 174.88569</td></tr>\n",
              "\t<tr><th scope=row>job_1</th><td>  86.89554</td></tr>\n",
              "\t<tr><th scope=row>job_2</th><td>  67.42009</td></tr>\n",
              "\t<tr><th scope=row>job_3</th><td>  78.24919</td></tr>\n",
              "\t<tr><th scope=row>job_4</th><td>  35.43447</td></tr>\n",
              "\t<tr><th scope=row>job_5</th><td>  35.74429</td></tr>\n",
              "\t<tr><th scope=row>job_6</th><td>  34.53412</td></tr>\n",
              "\t<tr><th scope=row>divorced</th><td>  67.54718</td></tr>\n",
              "\t<tr><th scope=row>single</th><td>  89.34123</td></tr>\n",
              "\t<tr><th scope=row>edu_primary</th><td>  53.78187</td></tr>\n",
              "\t<tr><th scope=row>edu_sec</th><td>  89.21741</td></tr>\n",
              "\t<tr><th scope=row>edu_tert</th><td>  84.48503</td></tr>\n",
              "\t<tr><th scope=row>co_cellular</th><td> 101.14729</td></tr>\n",
              "\t<tr><th scope=row>co_tel</th><td>  36.69114</td></tr>\n",
              "\t<tr><th scope=row>month_1</th><td> 119.11414</td></tr>\n",
              "\t<tr><th scope=row>month_2</th><td>  81.36537</td></tr>\n",
              "\t<tr><th scope=row>month_3</th><td>  95.84845</td></tr>\n",
              "\t<tr><th scope=row>month_4</th><td>  75.63362</td></tr>\n",
              "\t<tr><th scope=row>month_5</th><td>  84.86629</td></tr>\n",
              "\t<tr><th scope=row>month_6</th><td>  60.07720</td></tr>\n",
              "\t<tr><th scope=row>poc_success</th><td> 427.84272</td></tr>\n",
              "\t<tr><th scope=row>poc_failure</th><td>  61.69206</td></tr>\n",
              "\t<tr><th scope=row>poc_other</th><td>  38.56653</td></tr>\n",
              "</tbody>\n",
              "</table>\n"
            ]
          },
          "metadata": {
            "tags": []
          }
        }
      ]
    },
    {
      "cell_type": "code",
      "metadata": {
        "colab": {
          "base_uri": "https://localhost:8080/",
          "height": 437
        },
        "id": "W8WF1LG8hbFe",
        "outputId": "9893abf9-0d2c-4a48-d423-882c0441b5d2"
      },
      "source": [
        "# Variable importance plot\n",
        "varImpPlot(model)"
      ],
      "execution_count": 41,
      "outputs": [
        {
          "output_type": "display_data",
          "data": {
            "image/png": "[encoded data removed]",
            "text/plain": [
              "Plot with title “model”"
            ]
          },
          "metadata": {
            "tags": [],
            "image/png": {
              "width": 420,
              "height": 420
            }
          }
        }
      ]
    },
    {
      "cell_type": "markdown",
      "metadata": {
        "id": "MXH25_dEttpi"
      },
      "source": [
        "The plot clearly shows duration is the most important feature"
      ]
    },
    {
      "cell_type": "markdown",
      "metadata": {
        "id": "rp3qmgvBt4rR"
      },
      "source": [
        "# Conclusion"
      ]
    },
    {
      "cell_type": "markdown",
      "metadata": {
        "id": "l51X7710t8V8"
      },
      "source": [
        "Finally, the bank's target number of customers for term deposits is \n",
        "successfully predicted using a logistic regression model with an accuracy of \n",
        "90.1 percent and by using random forest with an accuracy of 90.9 percent"
      ]
    }
  ]
}